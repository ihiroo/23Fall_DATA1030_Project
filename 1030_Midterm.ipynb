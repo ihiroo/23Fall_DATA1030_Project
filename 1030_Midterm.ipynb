{
 "cells": [
  {
   "cell_type": "code",
   "execution_count": 1,
   "id": "c5fa2011-6b22-4ef4-b3c0-587416dccc06",
   "metadata": {},
   "outputs": [
    {
     "data": {
      "text/html": [
       "<div>\n",
       "<style scoped>\n",
       "    .dataframe tbody tr th:only-of-type {\n",
       "        vertical-align: middle;\n",
       "    }\n",
       "\n",
       "    .dataframe tbody tr th {\n",
       "        vertical-align: top;\n",
       "    }\n",
       "\n",
       "    .dataframe thead th {\n",
       "        text-align: right;\n",
       "    }\n",
       "</style>\n",
       "<table border=\"1\" class=\"dataframe\">\n",
       "  <thead>\n",
       "    <tr style=\"text-align: right;\">\n",
       "      <th></th>\n",
       "      <th>age</th>\n",
       "      <th>job</th>\n",
       "      <th>marital</th>\n",
       "      <th>education</th>\n",
       "      <th>default</th>\n",
       "      <th>housing</th>\n",
       "      <th>loan</th>\n",
       "      <th>contact</th>\n",
       "      <th>month</th>\n",
       "      <th>day_of_week</th>\n",
       "      <th>campaign</th>\n",
       "      <th>pdays</th>\n",
       "      <th>previous</th>\n",
       "      <th>poutcome</th>\n",
       "      <th>emp.var.rate</th>\n",
       "      <th>cons.price.idx</th>\n",
       "      <th>cons.conf.idx</th>\n",
       "      <th>euribor3m</th>\n",
       "      <th>nr.employed</th>\n",
       "      <th>y</th>\n",
       "    </tr>\n",
       "  </thead>\n",
       "  <tbody>\n",
       "    <tr>\n",
       "      <th>0</th>\n",
       "      <td>56</td>\n",
       "      <td>housemaid</td>\n",
       "      <td>married</td>\n",
       "      <td>basic.4y</td>\n",
       "      <td>no</td>\n",
       "      <td>no</td>\n",
       "      <td>no</td>\n",
       "      <td>telephone</td>\n",
       "      <td>may</td>\n",
       "      <td>mon</td>\n",
       "      <td>1</td>\n",
       "      <td>NaN</td>\n",
       "      <td>0</td>\n",
       "      <td>nonexistent</td>\n",
       "      <td>1.1</td>\n",
       "      <td>93.994</td>\n",
       "      <td>-36.4</td>\n",
       "      <td>4.857</td>\n",
       "      <td>5191.0</td>\n",
       "      <td>no</td>\n",
       "    </tr>\n",
       "    <tr>\n",
       "      <th>1</th>\n",
       "      <td>57</td>\n",
       "      <td>services</td>\n",
       "      <td>married</td>\n",
       "      <td>high.school</td>\n",
       "      <td>NaN</td>\n",
       "      <td>no</td>\n",
       "      <td>no</td>\n",
       "      <td>telephone</td>\n",
       "      <td>may</td>\n",
       "      <td>mon</td>\n",
       "      <td>1</td>\n",
       "      <td>NaN</td>\n",
       "      <td>0</td>\n",
       "      <td>nonexistent</td>\n",
       "      <td>1.1</td>\n",
       "      <td>93.994</td>\n",
       "      <td>-36.4</td>\n",
       "      <td>4.857</td>\n",
       "      <td>5191.0</td>\n",
       "      <td>no</td>\n",
       "    </tr>\n",
       "    <tr>\n",
       "      <th>2</th>\n",
       "      <td>37</td>\n",
       "      <td>services</td>\n",
       "      <td>married</td>\n",
       "      <td>high.school</td>\n",
       "      <td>no</td>\n",
       "      <td>yes</td>\n",
       "      <td>no</td>\n",
       "      <td>telephone</td>\n",
       "      <td>may</td>\n",
       "      <td>mon</td>\n",
       "      <td>1</td>\n",
       "      <td>NaN</td>\n",
       "      <td>0</td>\n",
       "      <td>nonexistent</td>\n",
       "      <td>1.1</td>\n",
       "      <td>93.994</td>\n",
       "      <td>-36.4</td>\n",
       "      <td>4.857</td>\n",
       "      <td>5191.0</td>\n",
       "      <td>no</td>\n",
       "    </tr>\n",
       "    <tr>\n",
       "      <th>3</th>\n",
       "      <td>40</td>\n",
       "      <td>admin.</td>\n",
       "      <td>married</td>\n",
       "      <td>basic.6y</td>\n",
       "      <td>no</td>\n",
       "      <td>no</td>\n",
       "      <td>no</td>\n",
       "      <td>telephone</td>\n",
       "      <td>may</td>\n",
       "      <td>mon</td>\n",
       "      <td>1</td>\n",
       "      <td>NaN</td>\n",
       "      <td>0</td>\n",
       "      <td>nonexistent</td>\n",
       "      <td>1.1</td>\n",
       "      <td>93.994</td>\n",
       "      <td>-36.4</td>\n",
       "      <td>4.857</td>\n",
       "      <td>5191.0</td>\n",
       "      <td>no</td>\n",
       "    </tr>\n",
       "    <tr>\n",
       "      <th>4</th>\n",
       "      <td>56</td>\n",
       "      <td>services</td>\n",
       "      <td>married</td>\n",
       "      <td>high.school</td>\n",
       "      <td>no</td>\n",
       "      <td>no</td>\n",
       "      <td>yes</td>\n",
       "      <td>telephone</td>\n",
       "      <td>may</td>\n",
       "      <td>mon</td>\n",
       "      <td>1</td>\n",
       "      <td>NaN</td>\n",
       "      <td>0</td>\n",
       "      <td>nonexistent</td>\n",
       "      <td>1.1</td>\n",
       "      <td>93.994</td>\n",
       "      <td>-36.4</td>\n",
       "      <td>4.857</td>\n",
       "      <td>5191.0</td>\n",
       "      <td>no</td>\n",
       "    </tr>\n",
       "  </tbody>\n",
       "</table>\n",
       "</div>"
      ],
      "text/plain": [
       "   age        job  marital    education default housing loan    contact month  \\\n",
       "0   56  housemaid  married     basic.4y      no      no   no  telephone   may   \n",
       "1   57   services  married  high.school     NaN      no   no  telephone   may   \n",
       "2   37   services  married  high.school      no     yes   no  telephone   may   \n",
       "3   40     admin.  married     basic.6y      no      no   no  telephone   may   \n",
       "4   56   services  married  high.school      no      no  yes  telephone   may   \n",
       "\n",
       "  day_of_week  campaign  pdays  previous     poutcome  emp.var.rate  \\\n",
       "0         mon         1    NaN         0  nonexistent           1.1   \n",
       "1         mon         1    NaN         0  nonexistent           1.1   \n",
       "2         mon         1    NaN         0  nonexistent           1.1   \n",
       "3         mon         1    NaN         0  nonexistent           1.1   \n",
       "4         mon         1    NaN         0  nonexistent           1.1   \n",
       "\n",
       "   cons.price.idx  cons.conf.idx  euribor3m  nr.employed   y  \n",
       "0          93.994          -36.4      4.857       5191.0  no  \n",
       "1          93.994          -36.4      4.857       5191.0  no  \n",
       "2          93.994          -36.4      4.857       5191.0  no  \n",
       "3          93.994          -36.4      4.857       5191.0  no  \n",
       "4          93.994          -36.4      4.857       5191.0  no  "
      ]
     },
     "execution_count": 1,
     "metadata": {},
     "output_type": "execute_result"
    }
   ],
   "source": [
    "import pandas as pd\n",
    "import numpy as np\n",
    "\n",
    "# unknown and 999 should be treated as missing values\n",
    "df = pd.read_csv('bank-additional-full.csv', sep = ';', na_values = ['unknown' ,999])\n",
    "df = df.drop(columns = ['duration']) # drop future information\n",
    "df.head()"
   ]
  },
  {
   "cell_type": "code",
   "execution_count": 2,
   "id": "ef0668f0-ac70-4436-b0e5-f111f8036967",
   "metadata": {},
   "outputs": [
    {
     "name": "stdout",
     "output_type": "stream",
     "text": [
      "(41188, 20)\n",
      "age                 int64\n",
      "job                object\n",
      "marital            object\n",
      "education          object\n",
      "default            object\n",
      "housing            object\n",
      "loan               object\n",
      "contact            object\n",
      "month              object\n",
      "day_of_week        object\n",
      "campaign            int64\n",
      "pdays             float64\n",
      "previous            int64\n",
      "poutcome           object\n",
      "emp.var.rate      float64\n",
      "cons.price.idx    float64\n",
      "cons.conf.idx     float64\n",
      "euribor3m         float64\n",
      "nr.employed       float64\n",
      "y                  object\n",
      "dtype: object\n"
     ]
    }
   ],
   "source": [
    "print(df.shape)\n",
    "print(df.dtypes)"
   ]
  },
  {
   "cell_type": "code",
   "execution_count": 14,
   "id": "92d20835-6230-4bcd-862c-e9ebff42ff70",
   "metadata": {},
   "outputs": [],
   "source": [
    "# deal with campaign\n",
    "# number of contacts performed during this campaign for this client (including the last contact)\n",
    "df['ncalls'] = df['campaign'] - 1\n",
    "df = df.drop(columns = ['campaign'])\n",
    "# since campaign includes the last contact, we want to create a new feature to indicate the number of calls made to one client\n",
    "# the last contact is future information"
   ]
  },
  {
   "cell_type": "code",
   "execution_count": null,
   "id": "f1a9bc3e-210e-4ab3-8eb4-105bbedc0a69",
   "metadata": {},
   "outputs": [],
   "source": [
    "# check iid\n",
    "# number of contacts performed during this campaign for this client (including last contact)\n",
    "# independent\n",
    "df\n"
   ]
  },
  {
   "cell_type": "code",
   "execution_count": null,
   "id": "ab427b43-611a-4f8a-b640-9497c7c9e72a",
   "metadata": {},
   "outputs": [],
   "source": [
    "# check if imbalanced\n",
    "print(np.unique(df.y, return_counts = True)) # yes takes up 11%\n",
    "# 11% is not too bad, we will determine if using stratification during splitting\n",
    "sum(df.y == 'yes') / df.shape[0]"
   ]
  },
  {
   "cell_type": "code",
   "execution_count": null,
   "id": "da1aabfc-16cb-4204-b1b3-9d90e4b794e6",
   "metadata": {},
   "outputs": [],
   "source": [
    "# check missing values\n",
    "perc_missing_per_ftr = df.isnull().sum(axis = 0) / df.shape[0]\n",
    "print('Fraction of Missing Values in Features:') \n",
    "print(perc_missing_per_ftr[perc_missing_per_ftr > 0])\n",
    "\n",
    "print('Data Types of the Features with Missing Values:')\n",
    "print(df[perc_missing_per_ftr[perc_missing_per_ftr > 0].index].dtypes)\n",
    "\n",
    "frac_missing = sum(df.isnull().sum(axis = 1) != 0) / df.shape[0]\n",
    "print('Fraction of Rows with Missing Values:', frac_missing)"
   ]
  },
  {
   "cell_type": "code",
   "execution_count": null,
   "id": "3e9144c8-8bab-4070-9fda-86b67049bbeb",
   "metadata": {},
   "outputs": [],
   "source": [
    "# train_test_split\n",
    "random_state = 42\n"
   ]
  },
  {
   "cell_type": "code",
   "execution_count": 24,
   "id": "d47be181-2ca2-4a81-b54f-e6f80ef11fd8",
   "metadata": {},
   "outputs": [],
   "source": [
    "# preprocessing\n",
    "# numerical: age, pdays, previous, emp.var.rate, cons.price.idx, cons.conf.idx, euribor3m, nr.employed, campiagn\n",
    "# categorical: job, martial, default, housing, loan, contact\n",
    "# ordinal: education, month, day_of_week, poutcome\n",
    "cat_ftrs = ['job', 'marital', 'default', 'housing', 'loan', 'contact', 'poutcome']\n",
    "\n",
    "ordinal_ftrs = ['education', 'month', 'day_of_week']\n",
    "ordinal_cats = [['NA', 'illiterate', 'basic.4y', 'basic.6y', 'basic.9y', 'high.school', 'professional.course', 'university.degree'],\n",
    "                ['mar', 'apr', 'may', 'jun', 'jul', 'aug', 'sep', 'oct', 'nov', 'dec'],\n",
    "                ['mon', 'tue', 'wed', 'thu', 'fri']]\n",
    "\n",
    "num_ftrs = ['age', 'pdays', 'previous', 'emp.var.rate', 'cons.price.idx', 'cons.conf.idx', 'euribor3m', 'nr.employed', 'ncalls']"
   ]
  },
  {
   "cell_type": "code",
   "execution_count": 25,
   "id": "b811dd2e-8fd1-4b6b-b1d7-d4b18fafc129",
   "metadata": {},
   "outputs": [],
   "source": [
    "from sklearn.compose import ColumnTransformer \n",
    "from sklearn.pipeline import Pipeline\n",
    "from sklearn.preprocessing import OneHotEncoder \n",
    "from sklearn.preprocessing import OrdinalEncoder \n",
    "from sklearn.preprocessing import StandardScaler \n",
    "from sklearn.impute import SimpleImputer\n",
    "from sklearn.experimental import enable_iterative_imputer \n",
    "from sklearn.impute import IterativeImputer\n",
    "from sklearn.ensemble import RandomForestRegressor\n",
    "\n",
    "random_state = 42\n",
    "\n",
    "# one-hot encoder\n",
    "categorical_transformer = Pipeline(steps = [\n",
    "    ('imputer', SimpleImputer(strategy = 'constant', fill_value = 'missing')), \n",
    "    ('onehot', OneHotEncoder(sparse_output = False, handle_unknown = 'ignore'))])\n",
    "\n",
    "# ordinal encoder\n",
    "ordinal_transformer = Pipeline(steps = [\n",
    "    ('imputer2', SimpleImputer(strategy = 'constant', fill_value = 'NA')),\n",
    "    ('ordinal', OrdinalEncoder(categories = ordinal_cats))])\n",
    "\n",
    "# standard scaler\n",
    "numeric_transformer = Pipeline(steps = [\n",
    "    ('scaler', StandardScaler())])\n",
    "\n",
    "# collect the transformers\n",
    "preprocessor = ColumnTransformer(\n",
    "    transformers = [\n",
    "        ('num', numeric_transformer, num_ftrs),\n",
    "        ('cat', categorical_transformer, cat_ftrs),\n",
    "        ('ord', ordinal_transformer, ordinal_ftrs)])"
   ]
  },
  {
   "cell_type": "code",
   "execution_count": 26,
   "id": "504ce20a-1654-49d0-8302-7dcccffd0dc7",
   "metadata": {},
   "outputs": [
    {
     "name": "stdout",
     "output_type": "stream",
     "text": [
      "Test Set: (8238, 19) (8238,)\n",
      "\n",
      "\n",
      "(29655, 42)\n",
      "(3295, 42)\n",
      "Fraction of Missing Values in Features:\n",
      "num__pdays    0.961153\n",
      "dtype: float64\n",
      "Data Types of the Features with Missing Values:\n",
      "num__pdays    float64\n",
      "dtype: object\n",
      "Fraction of Points with Missing Values: 0.9611532625189682\n",
      "\n",
      "\n",
      "(29655, 42)\n",
      "(3295, 42)\n",
      "Fraction of Missing Values in Features:\n",
      "num__pdays    0.96176\n",
      "dtype: float64\n",
      "Data Types of the Features with Missing Values:\n",
      "num__pdays    float64\n",
      "dtype: object\n",
      "Fraction of Points with Missing Values: 0.9617602427921093\n",
      "\n",
      "\n",
      "(29655, 42)\n",
      "(3295, 42)\n",
      "Fraction of Missing Values in Features:\n",
      "num__pdays    0.960546\n",
      "dtype: float64\n",
      "Data Types of the Features with Missing Values:\n",
      "num__pdays    float64\n",
      "dtype: object\n",
      "Fraction of Points with Missing Values: 0.960546282245827\n",
      "\n",
      "\n",
      "(29655, 42)\n",
      "(3295, 42)\n",
      "Fraction of Missing Values in Features:\n",
      "num__pdays    0.964188\n",
      "dtype: float64\n",
      "Data Types of the Features with Missing Values:\n",
      "num__pdays    float64\n",
      "dtype: object\n",
      "Fraction of Points with Missing Values: 0.9641881638846738\n",
      "\n",
      "\n",
      "(29655, 42)\n",
      "(3295, 42)\n",
      "Fraction of Missing Values in Features:\n",
      "num__pdays    0.964492\n",
      "dtype: float64\n",
      "Data Types of the Features with Missing Values:\n",
      "num__pdays    float64\n",
      "dtype: object\n",
      "Fraction of Points with Missing Values: 0.9644916540212443\n",
      "\n",
      "\n",
      "(29655, 42)\n",
      "(3295, 42)\n",
      "Fraction of Missing Values in Features:\n",
      "num__pdays    0.959636\n",
      "dtype: float64\n",
      "Data Types of the Features with Missing Values:\n",
      "num__pdays    float64\n",
      "dtype: object\n",
      "Fraction of Points with Missing Values: 0.9596358118361153\n",
      "\n",
      "\n",
      "(29655, 42)\n",
      "(3295, 42)\n",
      "Fraction of Missing Values in Features:\n",
      "num__pdays    0.969347\n",
      "dtype: float64\n",
      "Data Types of the Features with Missing Values:\n",
      "num__pdays    float64\n",
      "dtype: object\n",
      "Fraction of Points with Missing Values: 0.9693474962063733\n",
      "\n",
      "\n",
      "(29655, 42)\n",
      "(3295, 42)\n",
      "Fraction of Missing Values in Features:\n",
      "num__pdays    0.966616\n",
      "dtype: float64\n",
      "Data Types of the Features with Missing Values:\n",
      "num__pdays    float64\n",
      "dtype: object\n",
      "Fraction of Points with Missing Values: 0.9666160849772383\n",
      "\n",
      "\n",
      "(29655, 42)\n",
      "(3295, 42)\n",
      "Fraction of Missing Values in Features:\n",
      "num__pdays    0.969954\n",
      "dtype: float64\n",
      "Data Types of the Features with Missing Values:\n",
      "num__pdays    float64\n",
      "dtype: object\n",
      "Fraction of Points with Missing Values: 0.9699544764795144\n",
      "\n",
      "\n",
      "(29655, 42)\n",
      "(3295, 42)\n",
      "Fraction of Missing Values in Features:\n",
      "num__pdays    0.957208\n",
      "dtype: float64\n",
      "Data Types of the Features with Missing Values:\n",
      "num__pdays    float64\n",
      "dtype: object\n",
      "Fraction of Points with Missing Values: 0.9572078907435508\n",
      "\n",
      "\n",
      "(8238, 42)\n",
      "['num__age' 'num__pdays' 'num__previous' 'num__emp.var.rate'\n",
      " 'num__cons.price.idx' 'num__cons.conf.idx' 'num__euribor3m'\n",
      " 'num__nr.employed' 'num__ncalls' 'cat__job_admin.' 'cat__job_blue-collar'\n",
      " 'cat__job_entrepreneur' 'cat__job_housemaid' 'cat__job_management'\n",
      " 'cat__job_missing' 'cat__job_retired' 'cat__job_self-employed'\n",
      " 'cat__job_services' 'cat__job_student' 'cat__job_technician'\n",
      " 'cat__job_unemployed' 'cat__marital_divorced' 'cat__marital_married'\n",
      " 'cat__marital_missing' 'cat__marital_single' 'cat__default_missing'\n",
      " 'cat__default_no' 'cat__default_yes' 'cat__housing_missing'\n",
      " 'cat__housing_no' 'cat__housing_yes' 'cat__loan_missing' 'cat__loan_no'\n",
      " 'cat__loan_yes' 'cat__contact_cellular' 'cat__contact_telephone'\n",
      " 'cat__poutcome_failure' 'cat__poutcome_nonexistent'\n",
      " 'cat__poutcome_success' 'ord__education' 'ord__month' 'ord__day_of_week']\n",
      "42\n"
     ]
    }
   ],
   "source": [
    "# splitting\n",
    "from sklearn.model_selection import train_test_split\n",
    "from sklearn.model_selection import KFold\n",
    "X = df.drop(columns = 'y')\n",
    "y = df['y'] # this is a classification problem\n",
    "\n",
    "# test set\n",
    "X_other, X_test, y_other, y_test = train_test_split(X, y, test_size = 0.2, random_state = 42)\n",
    "print('Test Set:', X_test.shape, y_test.shape)\n",
    "print('\\n')\n",
    "\n",
    "# KFold\n",
    "n_splits = 10\n",
    "kf = KFold(n_splits = n_splits, shuffle = True, random_state = 42)\n",
    "for train_index, val_index in kf.split(X_other,y_other):\n",
    "    X_train = X_other.iloc[train_index]\n",
    "    y_train = y_other.iloc[train_index]\n",
    "    X_val = X_other.iloc[val_index]\n",
    "    y_val = y_other.iloc[val_index]\n",
    "\n",
    "    # preprocessor\n",
    "    # fit_transform the training set\n",
    "    X_prep = preprocessor.fit_transform(X_train)\n",
    "    feature_names = preprocessor.get_feature_names_out()\n",
    "    df_train = pd.DataFrame(data = X_prep, columns = feature_names)\n",
    "    print(df_train.shape)\n",
    "\n",
    "\n",
    "    # transform the validation set\n",
    "    df_val = preprocessor.transform(X_val)\n",
    "    df_val = pd.DataFrame(data = df_val, columns = feature_names)\n",
    "    print(df_val.shape)\n",
    "    perc_missing_per_ftr = df_val.isnull().sum(axis=0)/df_val.shape[0]\n",
    "    print('Fraction of Missing Values in Features:')\n",
    "    print(perc_missing_per_ftr[perc_missing_per_ftr > 0])\n",
    "    print('Data Types of the Features with Missing Values:')\n",
    "    print(df_val[perc_missing_per_ftr[perc_missing_per_ftr > 0].index].dtypes)\n",
    "    frac_missing = sum(df_val.isnull().sum(axis=1)!=0)/df_val.shape[0]\n",
    "    print('Fraction of Points with Missing Values:',frac_missing)\n",
    "\n",
    "    print('\\n')\n",
    "\n",
    "# transform the test set\n",
    "df_test = preprocessor.transform(X_test)\n",
    "df_test = pd.DataFrame(data = df_test, columns = feature_names)\n",
    "print(df_test.shape)\n",
    "print(feature_names)\n",
    "print(len(feature_names))"
   ]
  },
  {
   "cell_type": "code",
   "execution_count": null,
   "id": "36d45101-0d47-42c7-926a-4d8b0a1ae198",
   "metadata": {},
   "outputs": [],
   "source": [
    "# check missing values\n",
    "print('Data Dimensions:',df_test.shape)\n",
    "\n",
    "perc_missing_per_ftr = df_test.isnull().sum(axis = 0) / df_test.shape[0]\n",
    "print('Fraction of Missing Values in Features:') \n",
    "print(perc_missing_per_ftr[perc_missing_per_ftr > 0])\n",
    "\n",
    "print('Data Types of the Features with Missing Values:')\n",
    "print(df_test[perc_missing_per_ftr[perc_missing_per_ftr > 0].index].dtypes)\n",
    "\n",
    "frac_missing = sum(df_test.isnull().sum(axis = 1) != 0) / df_test.shape[0]\n",
    "print('Fraction of Rows with Missing Values:', frac_missing)"
   ]
  },
  {
   "cell_type": "code",
   "execution_count": null,
   "id": "bcb88fdf-d2cb-42e4-b06c-9abcf437bfe7",
   "metadata": {},
   "outputs": [],
   "source": [
    "X_corr = df_train.corr()\n",
    "import seaborn as sns\n",
    "sns.heatmap(X_corr).set(title = 'Correlation Heatmap',xlabel = 'Features', ylabel = 'Features')\n"
   ]
  },
  {
   "cell_type": "code",
   "execution_count": 11,
   "id": "0fbc5d6a-1a55-4fdb-bb2f-586edf9e0023",
   "metadata": {},
   "outputs": [
    {
     "name": "stdout",
     "output_type": "stream",
     "text": [
      "y             no   yes\n",
      "contact               \n",
      "cellular   22291  3853\n",
      "telephone  14257   787\n"
     ]
    },
    {
     "data": {
      "image/png": "[encoded data removed]",
      "text/plain": [
       "<Figure size 1000x500 with 1 Axes>"
      ]
     },
     "metadata": {},
     "output_type": "display_data"
    }
   ],
   "source": [
    "from matplotlib import pylab as plt\n",
    "count_matrix = df.groupby(['contact', 'y']).size().unstack()\n",
    "print(count_matrix)\n",
    "count_matrix_norm = count_matrix.div(count_matrix.sum(axis=1),axis=0) #print(count_matrix_norm)\n",
    "\n",
    "count_matrix_norm.plot(kind='bar', stacked=True,figsize=(10,5)) \n",
    "plt.ylabel('Fraction of People in Group')\n",
    "plt.xlabel('Month')\n",
    "plt.legend(loc=4)\n",
    "plt.title('Stacked Barplot of month vs. y')\n",
    "plt.show()"
   ]
  },
  {
   "cell_type": "code",
   "execution_count": null,
   "id": "f78f4235-9017-42ca-985c-b70485360b72",
   "metadata": {},
   "outputs": [],
   "source": [
    "df1 = df[(df.y == 'yes')]\n",
    "df1\n",
    "plt.figure(figsize=(5,3)) \n",
    "pd.value_counts(df1['housing']).plot.bar() \n",
    "plt.ylabel('count')\n",
    "plt.xlabel('education level')"
   ]
  },
  {
   "cell_type": "code",
   "execution_count": null,
   "id": "70bc8d51-3955-4974-b319-6f6ae448f73f",
   "metadata": {},
   "outputs": [],
   "source": [
    "df[['ncalls','y']].boxplot(by='y',figsize=(5,3))\n",
    "plt.show()"
   ]
  },
  {
   "cell_type": "code",
   "execution_count": 28,
   "id": "2df953c2-9c1f-452e-9e4b-a14f07d0e66a",
   "metadata": {},
   "outputs": [],
   "source": [
    "# age, pdays, previous, emp.var.rate, cons.price.idx, cons.conf.idx, euribor3m, nr.employed, campiagn\n",
    "df_num = df[['age', 'previous', 'emp.var.rate', 'cons.price.idx', 'cons.conf.idx', 'euribor3m', 'nr.employed', 'ncalls']]"
   ]
  },
  {
   "cell_type": "code",
   "execution_count": null,
   "id": "e18bdbef-a727-4408-8dcb-c6bf71f4c272",
   "metadata": {},
   "outputs": [],
   "source": [
    "sns.boxplot(data = df_num)\n",
    "plt.figure(figsize=(40,10)) \n",
    "plt.show()"
   ]
  },
  {
   "cell_type": "code",
   "execution_count": 33,
   "id": "de3967d0-17f5-400d-bf7f-04f96a7a3727",
   "metadata": {},
   "outputs": [
    {
     "data": {
      "text/plain": [
       "[Text(0.5, 1.0, 'Boxplot of Continuous Features'),\n",
       " Text(0.5, 0, 'Features'),\n",
       " Text(0, 0.5, 'Values')]"
      ]
     },
     "execution_count": 33,
     "metadata": {},
     "output_type": "execute_result"
    },
    {
     "data": {
      "image/png": "[encoded data removed]",
      "text/plain": [
       "<Figure size 1000x500 with 1 Axes>"
      ]
     },
     "metadata": {},
     "output_type": "display_data"
    }
   ],
   "source": [
    "scaler = StandardScaler()\n",
    "datanum_scaled = pd.DataFrame(scaler.fit_transform(df_num), columns = df_num.columns)\n",
    "plt.figure(figsize=(10, 5))\n",
    "sns.boxplot(data = datanum_scaled).set(title = 'Boxplot of Continuous Features', xlabel = 'Features', ylabel = 'Values')"
   ]
  },
  {
   "cell_type": "code",
   "execution_count": 9,
   "id": "e0085f00-7a58-4921-a7da-41c5556eae43",
   "metadata": {},
   "outputs": [
    {
     "data": {
      "image/png": "[encoded data removed]",
      "text/plain": [
       "<Figure size 1000x500 with 1 Axes>"
      ]
     },
     "metadata": {},
     "output_type": "display_data"
    }
   ],
   "source": [
    "categories = df['y'].unique() \n",
    "bin_range = (df['age'].min(),df['age'].max())\n",
    "plt.figure(figsize=(10,5))\n",
    "for c in categories: plt.hist(df[df['y']==c]['age'],alpha=0.5,label=c,range=bin_range,bins=20,density=True)\n",
    "plt.legend() \n",
    "plt.ylabel('Fraction') \n",
    "plt.xlabel('Age [years]') \n",
    "plt.title('Histogram of age vs. y')\n",
    "plt.show()"
   ]
  },
  {
   "cell_type": "code",
   "execution_count": null,
   "id": "7f40c17d-46d7-4eaa-95ef-3060a250232c",
   "metadata": {},
   "outputs": [],
   "source": [
    "df['y'] = df['y'].replace({'yes': 1, 'no': 0})\n",
    "plt.pie(df.y)\n",
    "plt.show()"
   ]
  },
  {
   "cell_type": "code",
   "execution_count": null,
   "id": "fdbad320-1a88-4e47-b1bd-70d51827104d",
   "metadata": {},
   "outputs": [],
   "source": [
    "labels = 'Yes', 'No'\n",
    "sizes = [sum(df.y == 'yes') / df.shape[0], sum(df.y == 'no') / df.shape[0]]\n",
    "fig, ax = plt.subplots()\n",
    "ax.pie(sizes, labels = labels, autopct='%1.1f%%')\n",
    "ax.axis('equal') \n",
    "ax.legend(labels, loc='upper right')\n",
    "ax.set_title('Balance of y')"
   ]
  },
  {
   "cell_type": "code",
   "execution_count": 22,
   "id": "5df9bc54-2a71-4161-ac90-fc88ca31b59e",
   "metadata": {},
   "outputs": [
    {
     "data": {
      "image/png": "[encoded data removed]",
      "text/plain": [
       "<Figure size 640x480 with 2 Axes>"
      ]
     },
     "metadata": {},
     "output_type": "display_data"
    }
   ],
   "source": [
    "df_num = df[['emp.var.rate', 'cons.price.idx', 'cons.conf.idx', \n",
    "            'euribor3m', 'nr.employed']]\n",
    "num_corr = df_num.corr()\n",
    "num_corr\n",
    "import seaborn as sns\n",
    "sns.heatmap(num_corr, annot = True).set(title = 'Correlation Heatmap',xlabel = 'Features', ylabel = 'Features')\n",
    "plt.show()"
   ]
  },
  {
   "cell_type": "code",
   "execution_count": 23,
   "id": "3e8166e5-5f85-4d33-9654-34b186f076a7",
   "metadata": {},
   "outputs": [
    {
     "data": {
      "text/plain": [
       "array([ 1.1,  1.4, -0.1, -0.2, -1.8, -2.9, -3.4, -3. , -1.7, -1.1])"
      ]
     },
     "execution_count": 23,
     "metadata": {},
     "output_type": "execute_result"
    }
   ],
   "source": [
    "df['emp.var.rate'].unique()"
   ]
  }
 ],
 "metadata": {
  "kernelspec": {
   "display_name": "Python 3 (ipykernel)",
   "language": "python",
   "name": "python3"
  },
  "language_info": {
   "codemirror_mode": {
    "name": "ipython",
    "version": 3
   },
   "file_extension": ".py",
   "mimetype": "text/x-python",
   "name": "python",
   "nbconvert_exporter": "python",
   "pygments_lexer": "ipython3",
   "version": "3.11.4"
  }
 },
 "nbformat": 4,
 "nbformat_minor": 5
}
